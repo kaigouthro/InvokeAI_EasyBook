{
  "cells": [
    {
      "cell_type": "markdown",
      "metadata": {
        "id": "view-in-github",
        "colab_type": "text"
      },
      "source": [
        "<a href=\"https://colab.research.google.com/github/kaigouthro/InvokeAI_EasyBook/blob/main/InvokeAI_EasyBook.ipynb\" target=\"_parent\"><img src=\"https://colab.research.google.com/assets/colab-badge.svg\" alt=\"Open In Colab\"/></a>"
      ]
    },
     {
      "cell_type": "code",
      "execution_count": null,
      "metadata": {
        "colab": {
          "base_uri": "https://localhost:8080/"
        },
        "id": "TBRKMfqbIEDH",
        "outputId": "1a516256-975a-4a47-9679-1f9860c6edc7"
      },
      "outputs": [],
      "source": [
        "                                                                                                                                                                                                                                                                                                                                                                                                                                                                                                                                                                                                                                                                                                                                                                                                                                                                                                                                                                                                                                                                                                                                                                                                                                                                                                                                                                                                                                                                                                                                                                                                                                                                                                                                                                                                                                                                                                                                                                                                                                                                                                                                                                                                                                                                                                                                                                                                                                                                                                                                                                                                                                                                                                                                                                                                                                                                                                                                            #@title Check if you have a gpu..\n",
        "!nvidia-smi -L\n",
        "!nvidia-smi\n",
        "\n",
        "# hold a variable to auto skip installs on restart kernel\n",
        "_run = False"
      ]
    },
    {
      "attachments": {},
      "cell_type": "markdown",
      "metadata": {
        "id": "pH7gn5qp3Uca"
      },
      "source": [
        "## Sign up/accept terms/get tokens at \n",
        "-  https://huggingface.co/runwayml/stable-diffusion-v1-5 \n",
        "-  https://huggingface.co/runwayml/stable-diffusion-inpainting \n",
        "-  https://ngrok.com/  (for access outside)\n"
      ]
    },
    {
      "cell_type": "code",
      "execution_count": null,
      "metadata": {
        "colab": {
          "base_uri": "https://localhost:8080/"
        },
        "id": "XmBxfieaJM4K",
        "outputId": "1bf47815-a1f5-4b14-afb3-2a1fa0aefea9"
      },
      "outputs": [],
      "source": [
        "#@title # `Enter your info`: { vertical-output: true, form-width: \"60%\", display-mode: \"form\" }\n",
        "from google.colab import drive\n",
        "import IPython\n",
        "import os\n",
        "import sys\n",
        "from IPython.utils import capture\n",
        "from IPython.display import *\n",
        "exists = os.path.exists\n",
        "\n",
        "#@markdown ### `set to OFF if PERSIST INSTALL already performed`\n",
        "initializing   =     True #@param {type:\"boolean\"}\n",
        "_skip = _run\n",
        "\n",
        "# Set if instance should be temporary or persistent\n",
        "#@markdown |   |\n",
        "#@markdown | - |\n",
        "#@markdown |`Keep this permanently?`   |\n",
        "persist_in_drive      = True #@param {type:\"boolean\"}\n",
        "\n",
        "#@markdown location default -> `/content/drive/MyDrive/workspace_folder`\n",
        "# Name of your working folder\n",
        "workspace_folder = \"sd/iv\" #@param {type:\"string\"}\n",
        "\n",
        "#@markdown  _`tick this = /content/drive/Shareddrives/workkspace_folder`_\n",
        "shared_drive          = True #@param {type:\"boolean\"}\n",
        "_shared = \"MyDrive/\" \n",
        "if shared_drive:\n",
        "    _shared = 'Shareddrives/' \n",
        "\n",
        "# Set Path either way, it can go temp or to drive.\n",
        "workspace             = '/content/drive/' + _shared + workspace_folder\n",
        "\n",
        "# Set up storage\n",
        "if persist_in_drive:  \n",
        "    # mount if chosen\n",
        "    drive.mount('/content/drive',force_remount=True)\n",
        "\n",
        "# create path if not exists (persistent or temp, ssame folder)\n",
        "os.makedirs(workspace,exist_ok=True)\n",
        "\n",
        "# Sign up/accept terms/get tokens at https://huggingface.co/runwayml/stable-diffusion-v1-5 https://huggingface.co/runwayml/stable-diffusion-inpainting https://ngrok.com/\n",
        "huggingface_token = \"\" #@param {type:\"string\"}\n",
        "ngrok_token = \"\" #@param {type:\"string\"}\n",
        "\n"
      ]
    },
    {
      "attachments": {},
      "cell_type": "markdown",
      "metadata": {
        "id": "PWuY4dPW-J4v"
      },
      "source": [
        "----\n",
        "# **` Prep -  you can RUN all the rest from here`**\n",
        "----"
      ]
    },
    {
      "cell_type": "code",
      "execution_count": null,
      "metadata": {
        "colab": {
          "base_uri": "https://localhost:8080/"
        },
        "collapsed": true,
        "id": "c40VE5vr0dWF",
        "outputId": "1c1be5bb-6de6-4f42-be9b-0b72f03169ae"
      },
      "outputs": [],
      "source": [
        "#@title #install the dependencies. :{ vertical-output: false,display-mode: \"form\" }\n",
        "\n",
        "if _skip:\n",
        "    print('installed already')\n",
        "else:\n",
        "    %pip install --upgrade pip\n",
        "    %pip install --upgrade pyngrok\n",
        "    %pip install virtualenv --force-reinstall\n",
        "    _run = True"
      ]
    },
    {
      "cell_type": "code",
      "execution_count": null,
      "metadata": {
        "colab": {
          "base_uri": "https://localhost:8080/"
        },
        "id": "e7U8CIkP3V2f",
        "outputId": "634a006a-741a-4429-a563-88f034f9085c"
      },
      "outputs": [],
      "source": [
        "#@title ## Create InvokeAI root\n",
        "\n",
        "invokeai_root  = workspace \n",
        "os.makedirs ( invokeai_root  , exist_ok = True )\n",
        "os.chdir    ( invokeai_root  )\n",
        "print       ( os.getcwd())     \n"
      ]
    },
    {
      "cell_type": "code",
      "execution_count": null,
      "metadata": {
        "colab": {
          "base_uri": "https://localhost:8080/"
        },
        "id": "XDrOUKU63uHj",
        "outputId": "0e0e07ec-38b5-4bdf-ad92-a93552c593f5"
      },
      "outputs": [],
      "source": [
        "#@title  One Time Install to storage -> Create virtual environment\n",
        "if not os.path.exists(f'{invokeai_root}/venv'):\n",
        "    !virtualenv venv\n",
        "    !source venv/bin/activate -p; pip install TensorRT\n",
        "    !source venv/bin/activate; pip install InvokeAI[xformers] \n",
        "    !source venv/bin/activate; invokeai-configure --yes\n",
        "!source venv/bin/activate -p; pip check"
      ]
    },
    {
      "cell_type": "code",
      "execution_count": null,
      "metadata": {
        "colab": {
          "base_uri": "https://localhost:8080/"
        },
        "id": "osE_8sgU5Mh7",
        "outputId": "5045708a-049a-47f9-c1d6-fb81e92596ba"
      },
      "outputs": [],
      "source": [
        "#@title ## `huggingface login`\n",
        "from os import environ\n",
        "import sys, os\n",
        "!source venv/bin/activate; pip install huggingface_hub\n",
        "!source venv/bin/activate; huggingface-cli login --token=$huggingface_token"
      ]
    },
    {
      "attachments": {},
      "cell_type": "markdown",
      "metadata": {
        "id": "zpR8rmhI6QTB"
      },
      "source": [
        "# `Start NGROK, open link after launching InvokeAI`"
      ]
    },
    {
      "cell_type": "code",
      "execution_count": null,
      "metadata": {
        "colab": {
          "base_uri": "https://localhost:8080/",
          "height": 225
        },
        "id": "R0CktNw3a6Jb",
        "outputId": "27453823-a6c2-4842-8ecd-9b404c1843c5"
      },
      "outputs": [],
      "source": [
        "from IPython.display import display \n",
        "\n",
        "# %pip install pyngrok\n",
        "from pyngrok import ngrok\n",
        "\n",
        "ngrok.kill()\n",
        "!ngrok config add-authtoken $ngrok_token\n",
        "ngrok.set_auth_token(token= f'{ngrok_token}')\n",
        "public_url = ngrok.connect(9090).public_url\n",
        "\n",
        "\n",
        "# show the link\n",
        "display(Markdown(\"# WEBUI \\n------\\n`InvokeAI Public URL :`\\n\"))\n",
        "print(f'{public_url}')\n",
        "display(Markdown(\"\\n\\n\\n------\\n\\n ` click once running` \"))\n",
        "\n"
      ]
    },
    {
      "cell_type": "code",
      "execution_count": null,
      "metadata": {
        "id": "Ca5vCyBSQ4B8"
      },
      "outputs": [],
      "source": [
        "#@title # ` start it up `\n",
        "os.chdir(invokeai_root)\n",
        "!source venv/bin/activate; invokeai --no-nsfw_checker --no-safety_checker --web  --xformers --host 0.0.0.0"
      ]
    }
  ],
  "metadata": {
    "accelerator": "GPU",
    "colab": {
      "provenance": []
    },
    "kernelspec": {
      "display_name": "Python 3",
      "name": "python3"
    },
    "language_info": {
      "codemirror_mode": {
        "name": "ipython",
        "version": 3
      },
      "file_extension": ".py",
      "mimetype": "text/x-python",
      "name": "python",
      "nbconvert_exporter": "python",
      "pygments_lexer": "ipython3",
      "version": "3.9.16"
    }
  },
  "nbformat": 4,
  "nbformat_minor": 0
}
