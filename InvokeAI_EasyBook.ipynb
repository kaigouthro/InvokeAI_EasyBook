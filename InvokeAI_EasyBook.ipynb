{
  "cells": [
    {
      "cell_type": "markdown",
      "metadata": {
        "id": "view-in-github",
        "colab_type": "text"
      },
      "source": [
        "<a href=\"https://colab.research.google.com/github/kaigouthro/InvokeAI_EasyBook/blob/main/InvokeAI_EasyBook.ipynb\" target=\"_parent\"><img src=\"https://colab.research.google.com/assets/colab-badge.svg\" alt=\"Open In Colab\"/></a>"
      ]
    },
    {
      "cell_type": "code",
      "execution_count": null,
      "metadata": {
        "execution": {
          "iopub.execute_input": "2023-05-25T19:18:31.292274Z",
          "iopub.status.busy": "2023-05-25T19:18:31.291819Z",
          "iopub.status.idle": "2023-05-25T19:18:32.746083Z",
          "shell.execute_reply": "2023-05-25T19:18:32.745041Z",
          "shell.execute_reply.started": "2023-05-25T19:18:31.292244Z"
        },
        "id": "TBRKMfqbIEDH"
      },
      "outputs": [],
      "source": [
        "#@title Check if you have a gpu..\n",
        "!nvidia-smi -L\n",
        "!nvidia-smi"
      ]
    },
    {
      "cell_type": "markdown",
      "source": [
        "## Sign up/accept terms/get tokens at \n",
        "-  https://huggingface.co/runwayml/stable-diffusion-v1-5 \n",
        "-  https://huggingface.co/runwayml/stable-diffusion-inpainting \n",
        "-  https://ngrok.com/  (for access outside)\n"
      ],
      "metadata": {
        "id": "pH7gn5qp3Uca"
      }
    },
    {
      "cell_type": "code",
      "execution_count": null,
      "metadata": {
        "execution": {
          "iopub.execute_input": "2023-05-25T18:04:04.014181Z",
          "iopub.status.busy": "2023-05-25T18:04:04.013621Z",
          "iopub.status.idle": "2023-05-25T18:04:04.020751Z",
          "shell.execute_reply": "2023-05-25T18:04:04.019664Z",
          "shell.execute_reply.started": "2023-05-25T18:04:04.014130Z"
        },
        "id": "XmBxfieaJM4K"
      },
      "outputs": [],
      "source": [
        "#@title Input: { vertical-output: true, form-width: \"20%\", display-mode: \"form\" }\n",
        "from google.colab import drive\n",
        "import os\n",
        "import sys\n",
        "\n",
        "# Set if instance should be temporary or persistent\n",
        "persist_in_drive            = True #@param {type:\"boolean\"}\n",
        "\n",
        "# Set Path either way, it can go temp or to drive.\n",
        "workspace  = '/content/drive/MyDrive/invoke_ai'\n",
        "\n",
        "# Set up storage\n",
        "if persist_in_drive:\n",
        "  # mount if chosen\n",
        "    drive.mount('/content/drive')\n",
        "\n",
        "# create path if not exists (persistent or temp, ssame folder)\n",
        "os.makedirs(workspace,exist_ok=True)\n",
        "\n",
        "# Sign up/accept terms/get tokens at https://huggingface.co/runwayml/stable-diffusion-v1-5 https://huggingface.co/runwayml/stable-diffusion-inpainting https://ngrok.com/\n",
        "huggingface_token = \"\" #@param {type:\"string\"}\n",
        "ngrok_token = \"\" #@param {type:\"string\"}"
      ]
    },
    {
      "cell_type": "markdown",
      "source": [
        "----\n",
        "# **` Prep -  you can RUN all the rest from here`**\n",
        "----"
      ],
      "metadata": {
        "id": "PWuY4dPW-J4v"
      }
    },
    {
      "cell_type": "code",
      "execution_count": null,
      "metadata": {
        "execution": {
          "iopub.execute_input": "2023-05-25T19:02:05.512476Z",
          "iopub.status.busy": "2023-05-25T19:02:05.511958Z",
          "iopub.status.idle": "2023-05-25T19:02:40.089241Z",
          "shell.execute_reply": "2023-05-25T19:02:40.088368Z",
          "shell.execute_reply.started": "2023-05-25T19:02:05.512446Z"
        },
        "id": "c40VE5vr0dWF",
        "cellView": "form"
      },
      "outputs": [],
      "source": [
        "#@title #install the dependencies.\n",
        "# Install python 3.9\n",
        "!sudo apt-get update -y\n",
        "!sudo apt-get install python3.9 python3-pip python3.9-distutils python3.9-dev libpython3.9-dev python3.9-venv -y\n",
        "!pip install pyngrok --quiet\n",
        "!pip3 install virtualenv \n",
        "\n",
        "# Change alternatives\n",
        "!sudo update-alternatives --install /usr/bin/python3 python3 /usr/bin/python3.8 1\n",
        "!sudo update-alternatives --install /usr/bin/python3 python3 /usr/bin/python3.9 2\n",
        "\n",
        "# Verify python version\n",
        "!python --version\n",
        "\n",
        "# Update pip\n",
        "!curl https://bootstrap.pypa.io/get-pip.py -o get-pip.py\n",
        "!python3 get-pip.py --force-reinstall\n",
        "!python -m pip install --upgrade pip\n",
        "!pip install --upgrade setuptools\n",
        "\n",
        "# Handle colab dependencies\n",
        "!ln -s /usr/local/lib/python3.8/dist-packages/google /usr/local/lib/python3.9/dist-packages/google\n",
        "!python3 -m pip install ipython ipython_genutils ipykernel jupyter_console prompt_toolkit httplib2 astor"
      ]
    },
    {
      "cell_type": "code",
      "execution_count": null,
      "metadata": {
        "execution": {
          "iopub.execute_input": "2023-05-25T19:10:28.477616Z",
          "iopub.status.busy": "2023-05-25T19:10:28.477128Z",
          "iopub.status.idle": "2023-05-25T19:10:28.482842Z",
          "shell.execute_reply": "2023-05-25T19:10:28.481777Z",
          "shell.execute_reply.started": "2023-05-25T19:10:28.477596Z"
        },
        "id": "e7U8CIkP3V2f",
        "cellView": "form"
      },
      "outputs": [],
      "source": [
        "#@title Create InvokeAI root\n",
        "# Create InvokeAI root\n",
        "invokeai_root  = workspace + '/invokeai'\n",
        "os.makedirs ( invokeai_root  , exist_ok = True )\n",
        "os.chdir    ( invokeai_root  )\n",
        "print       ( os.getcwd())     \n"
      ]
    },
    {
      "cell_type": "code",
      "execution_count": null,
      "metadata": {
        "execution": {
          "iopub.execute_input": "2023-05-25T18:06:35.264285Z",
          "iopub.status.busy": "2023-05-25T18:06:35.263813Z",
          "iopub.status.idle": "2023-05-25T18:13:18.959529Z",
          "shell.execute_reply": "2023-05-25T18:13:18.958581Z",
          "shell.execute_reply.started": "2023-05-25T18:06:35.264285Z"
        },
        "id": "XDrOUKU63uHj",
        "cellView": "form"
      },
      "outputs": [],
      "source": [
        "#@title  Create and prepare virtual environment\n",
        "!virtualenv venv --system-site-packages\n",
        "!source venv/bin/activate #activate the virtual env"
      ]
    },
    {
      "cell_type": "markdown",
      "source": [
        "# `___________` Install `Invoke` and run `____________`"
      ],
      "metadata": {
        "id": "BIo7Jhaj-qwI"
      }
    },
    {
      "cell_type": "code",
      "source": [
        "#@title # ` install InvokeAI `\n",
        "!source venv/bin/activate; pip install InvokeAI[xformers] --use-pep517 --extra-index-url https://download.pytorch.org/whl/cu117"
      ],
      "metadata": {
        "cellView": "form",
        "id": "e2TPLeDczNIo"
      },
      "execution_count": null,
      "outputs": []
    },
    {
      "cell_type": "code",
      "execution_count": null,
      "metadata": {
        "execution": {
          "iopub.execute_input": "2023-05-25T19:11:22.883516Z",
          "iopub.status.busy": "2023-05-25T19:11:22.883244Z",
          "iopub.status.idle": "2023-05-25T19:11:56.930729Z",
          "shell.execute_reply": "2023-05-25T19:11:56.929663Z",
          "shell.execute_reply.started": "2023-05-25T19:11:22.883516Z"
        },
        "id": "osE_8sgU5Mh7",
        "cellView": "form"
      },
      "outputs": [],
      "source": [
        "#@title #### `(skip the login prompt this way for faster running)`\n",
        "import os\n",
        "!source venv/bin/activate;  os.environ['HUGGING_FACE_HUB_TOKEN'] = huggingface_token\n",
        "!source venv/bin/activate;  os.environ  ['INVOKEAI_ROOT'] = invokeai_root\n",
        "!source venv/bin/activate; invokeai-configure --yes\n",
        "!sed -i 's/--nsfw_checker/--no-nsfw_checker/' invokeai.init\n",
        "\n",
        "!source venv/bin/activate; pip install huggingface_hub  \"ipywidgets>=7,<8\" --upgrade\n",
        "!source venv/bin/activate; huggingface-cli login --token=$huggingface_token"
      ]
    },
    {
      "cell_type": "code",
      "execution_count": null,
      "metadata": {
        "execution": {
          "iopub.execute_input": "2023-05-25T20:37:13.719713Z",
          "iopub.status.busy": "2023-05-25T20:37:13.719321Z",
          "iopub.status.idle": "2023-05-25T20:37:17.911089Z",
          "shell.execute_reply": "2023-05-25T20:37:17.909163Z",
          "shell.execute_reply.started": "2023-05-25T20:37:13.719682Z"
        },
        "id": "R0CktNw3a6Jb",
        "cellView": "form"
      },
      "outputs": [],
      "source": [
        "#@title # `NGROK proxy and launch Invoke`\n",
        "from pyngrok import ngrok\n",
        "from IPython.display import display, Markdown\n",
        "ngrok.kill()\n",
        "!ngrok.set_auth_token($ngrok_token)\n",
        "public_url = ngrok.connect(9090).public_url\n",
        "\n",
        "\n",
        "# show the link\n",
        "display(Markdown(\"# WEBUI \\n------\\n`InvokeAI Public URL :`\\n\"))\n",
        "print(f'{public_url}')\n",
        "display(Markdown(\"\\n\\n\\n------\\n\\n ` click once the next cell is finshed\"))\n"
      ]
    },
    {
      "cell_type": "code",
      "source": [
        "#@title # ` start it up `\n",
        "os.chdir(invokeai_root)\n",
        "!source venv/bin/activate; invokeai --no-nsfw_checker --no-safety_checker --web  --xformers --host 0.0.0.0"
      ],
      "metadata": {
        "id": "FRp_M3CSw0xW",
        "cellView": "form"
      },
      "execution_count": null,
      "outputs": []
    }
  ],
  "metadata": {
    "colab": {
      "provenance": [],
      "gpuType": "T4",
      "private_outputs": true,
      "collapsed_sections": [
        "PWuY4dPW-J4v",
        "BIo7Jhaj-qwI"
      ],
      "include_colab_link": true
    },
    "gpuClass": "standard",
    "kernelspec": {
      "display_name": "Python 3 (ipykernel)",
      "language": "python",
      "name": "python3"
    },
    "language_info": {
      "codemirror_mode": {
        "name": "ipython",
        "version": 3
      },
      "file_extension": ".py",
      "mimetype": "text/x-python",
      "name": "python",
      "nbconvert_exporter": "python",
      "pygments_lexer": "ipython3",
      "version": "3.9.16"
    },
    "accelerator": "GPU"
  },
  "nbformat": 4,
  "nbformat_minor": 0
}